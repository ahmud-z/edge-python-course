{
 "cells": [
  {
   "cell_type": "code",
   "execution_count": 21,
   "metadata": {},
   "outputs": [],
   "source": [
    "import numpy as np"
   ]
  },
  {
   "cell_type": "code",
   "execution_count": 22,
   "metadata": {},
   "outputs": [],
   "source": [
    "temperatures = [28, 32, 35, 31, 29, 30, 33, 36, 27, 25, 34, 30, 29, 37, 38, 26, 31, 35,\n",
    "33, 32, 36, 34, 29, 28, 27, 35, 32, 30, 31, 33]"
   ]
  },
  {
   "cell_type": "code",
   "execution_count": 23,
   "metadata": {},
   "outputs": [],
   "source": [
    "temp_above_32_celsius =  [temp for temp in (temperatures) if temp>32]\n",
    "classified_temps_tuples = [(temp, \"Hot\" if temp > 35 else \"Warm\" if 30 <= temp <= 35 else \"Cool\") for temp in temperatures]\n",
    "\n",
    "avg_temperature = float(np.mean(temperatures))\n",
    "temp_differences_from_monthly_avg = [temp-avg_temperature for temp in (temperatures)]"
   ]
  },
  {
   "cell_type": "code",
   "execution_count": 24,
   "metadata": {},
   "outputs": [
    {
     "name": "stdout",
     "output_type": "stream",
     "text": [
      "Temperatures above 32'C: [35, 33, 36, 34, 37, 38, 35, 33, 36, 34, 35, 33]\n"
     ]
    }
   ],
   "source": [
    "print(f\"Temperatures above 32'C: {temp_above_32_celsius}\")"
   ]
  },
  {
   "cell_type": "code",
   "execution_count": 25,
   "metadata": {},
   "outputs": [
    {
     "name": "stdout",
     "output_type": "stream",
     "text": [
      "Temperature differences from monthly average: [-3.533333333333335, 0.466666666666665, 3.466666666666665, -0.533333333333335, -2.533333333333335, -1.533333333333335, 1.466666666666665, 4.466666666666665, -4.533333333333335, -6.533333333333335, 2.466666666666665, -1.533333333333335, -2.533333333333335, 5.466666666666665, 6.466666666666665, -5.533333333333335, -0.533333333333335, 3.466666666666665, 1.466666666666665, 0.466666666666665, 4.466666666666665, 2.466666666666665, -2.533333333333335, -3.533333333333335, -4.533333333333335, 3.466666666666665, 0.466666666666665, -1.533333333333335, -0.533333333333335, 1.466666666666665]\n"
     ]
    }
   ],
   "source": [
    "print(f\"Temperature differences from monthly average: {temp_differences_from_monthly_avg}\")"
   ]
  },
  {
   "cell_type": "code",
   "execution_count": 26,
   "metadata": {},
   "outputs": [
    {
     "name": "stdout",
     "output_type": "stream",
     "text": [
      "Temperatures according to their classified name:\n"
     ]
    },
    {
     "data": {
      "text/plain": [
       "[(28, 'Cool'),\n",
       " (32, 'Warm'),\n",
       " (35, 'Warm'),\n",
       " (31, 'Warm'),\n",
       " (29, 'Cool'),\n",
       " (30, 'Warm'),\n",
       " (33, 'Warm'),\n",
       " (36, 'Hot'),\n",
       " (27, 'Cool'),\n",
       " (25, 'Cool'),\n",
       " (34, 'Warm'),\n",
       " (30, 'Warm'),\n",
       " (29, 'Cool'),\n",
       " (37, 'Hot'),\n",
       " (38, 'Hot'),\n",
       " (26, 'Cool'),\n",
       " (31, 'Warm'),\n",
       " (35, 'Warm'),\n",
       " (33, 'Warm'),\n",
       " (32, 'Warm'),\n",
       " (36, 'Hot'),\n",
       " (34, 'Warm'),\n",
       " (29, 'Cool'),\n",
       " (28, 'Cool'),\n",
       " (27, 'Cool'),\n",
       " (35, 'Warm'),\n",
       " (32, 'Warm'),\n",
       " (30, 'Warm'),\n",
       " (31, 'Warm'),\n",
       " (33, 'Warm')]"
      ]
     },
     "execution_count": 26,
     "metadata": {},
     "output_type": "execute_result"
    }
   ],
   "source": [
    "print(\"Temperatures according to their classified name:\")\n",
    "classified_temps_tuples"
   ]
  }
 ],
 "metadata": {
  "kernelspec": {
   "display_name": ".venv",
   "language": "python",
   "name": "python3"
  },
  "language_info": {
   "codemirror_mode": {
    "name": "ipython",
    "version": 3
   },
   "file_extension": ".py",
   "mimetype": "text/x-python",
   "name": "python",
   "nbconvert_exporter": "python",
   "pygments_lexer": "ipython3",
   "version": "3.12.3"
  }
 },
 "nbformat": 4,
 "nbformat_minor": 2
}
