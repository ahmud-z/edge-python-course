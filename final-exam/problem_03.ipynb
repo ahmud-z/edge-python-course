{
 "cells": [
  {
   "cell_type": "code",
   "execution_count": 19,
   "metadata": {},
   "outputs": [],
   "source": [
    "import numpy as np\n",
    "import math"
   ]
  },
  {
   "cell_type": "code",
   "execution_count": 20,
   "metadata": {},
   "outputs": [],
   "source": [
    "A = np.array([[2, 4, 6], [1, 3, 5], [7, 9, 11]])\n",
    "B = np.array([[8, 5, 2], [7, 4, 1], [6, 3, 0]])"
   ]
  },
  {
   "cell_type": "code",
   "execution_count": 22,
   "metadata": {},
   "outputs": [],
   "source": [
    "elements_wise_sum = A + B\n",
    "elements_wise_product = A * B\n",
    "dot_product = np.dot(A, np.transpose(B))\n",
    "determinant_of_A = float(np.linalg.det(A))"
   ]
  },
  {
   "cell_type": "code",
   "execution_count": 33,
   "metadata": {},
   "outputs": [
    {
     "name": "stdout",
     "output_type": "stream",
     "text": [
      "Elements wise sum(A+B):\n",
      " [[10  9  8]\n",
      " [ 8  7  6]\n",
      " [13 12 11]]\n",
      "\n",
      "Elements wise product(AxB):\n",
      " [[16 20 12]\n",
      " [ 7 12  5]\n",
      " [42 27  0]]\n",
      "\n",
      "Dot product of (A.B^t):\n",
      " [[ 48  36  24]\n",
      " [ 33  24  15]\n",
      " [123  96  69]]\n",
      "\n",
      "Determinant of A: 0.0\n"
     ]
    }
   ],
   "source": [
    "print(f\"Elements wise sum(A+B):\\n {elements_wise_sum}\")\n",
    "print(f\"\\nElements wise product(AxB):\\n {elements_wise_product}\")\n",
    "print(f\"\\nDot product of (A.B^t):\\n {dot_product}\")\n",
    "print(f\"\\nDeterminant of A: {determinant_of_A}\")"
   ]
  }
 ],
 "metadata": {
  "kernelspec": {
   "display_name": ".venv",
   "language": "python",
   "name": "python3"
  },
  "language_info": {
   "codemirror_mode": {
    "name": "ipython",
    "version": 3
   },
   "file_extension": ".py",
   "mimetype": "text/x-python",
   "name": "python",
   "nbconvert_exporter": "python",
   "pygments_lexer": "ipython3",
   "version": "3.12.3"
  }
 },
 "nbformat": 4,
 "nbformat_minor": 2
}
